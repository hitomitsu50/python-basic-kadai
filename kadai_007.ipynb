{
  "nbformat": 4,
  "nbformat_minor": 0,
  "metadata": {
    "colab": {
      "provenance": []
    },
    "kernelspec": {
      "name": "python3",
      "display_name": "Python 3"
    },
    "language_info": {
      "name": "python"
    }
  },
  "cells": [
    {
      "cell_type": "code",
      "source": [],
      "metadata": {
        "id": "ME6tG7f_UvMN"
      },
      "execution_count": null,
      "outputs": []
    },
    {
      "cell_type": "code",
      "execution_count": 6,
      "metadata": {
        "colab": {
          "base_uri": "https://localhost:8080/"
        },
        "id": "skGKw46HPs9P",
        "outputId": "fa946eb3-93d4-48a9-a597-cefaa789d729"
      },
      "outputs": [
        {
          "output_type": "stream",
          "name": "stdout",
          "text": [
            "水曜日は晴れです\n"
          ]
        }
      ],
      "source": [
        "list = [\"月曜日は晴れです\",\"火曜日は雨です\",\"水曜日は晴れです\",\"木曜日は晴れです\",\"金曜日は曇りです\",\"土曜日は曇りのち雨です\",\"日曜日は雷雨です\"]\n",
        "\n",
        "print(list[2])\n"
      ]
    },
    {
      "cell_type": "code",
      "source": [
        "dictionary = {\"mon\" : \"晴れ\" , \"tue\" : \"雨\" , \"wed\" : \"晴れ\" , \"thu\" : \"晴れ\" , \"fri\" : \"曇り\" , \"sat\" : \"曇りのち雨\" , \"sun\" : \"雷雨\"}\n",
        "print(dictionary[\"wed\"])"
      ],
      "metadata": {
        "colab": {
          "base_uri": "https://localhost:8080/"
        },
        "id": "38xDvXaqYGns",
        "outputId": "90baeb3c-19d8-459f-e009-dc7de7656c40"
      },
      "execution_count": 14,
      "outputs": [
        {
          "output_type": "stream",
          "name": "stdout",
          "text": [
            "晴れ\n"
          ]
        }
      ]
    }
  ]
}