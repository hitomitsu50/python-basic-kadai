{
  "nbformat": 4,
  "nbformat_minor": 0,
  "metadata": {
    "colab": {
      "provenance": []
    },
    "kernelspec": {
      "name": "python3",
      "display_name": "Python 3"
    },
    "language_info": {
      "name": "python"
    }
  },
  "cells": [
    {
      "cell_type": "code",
      "execution_count": null,
      "metadata": {
        "colab": {
          "base_uri": "https://localhost:8080/"
        },
        "id": "HHMi_OSr4Y26",
        "outputId": "889175e1-0726-42f6-b4f2-4163f1ae7c79"
      },
      "outputs": [
        {
          "output_type": "stream",
          "name": "stdout",
          "text": [
            "75.0㎠\n"
          ]
        }
      ],
      "source": [
        "#上辺：10cm\n",
        "#下辺：20cm\n",
        "#高さ:5cm\n",
        "\n",
        "#公式　：　台形の面積 = (上辺+下辺)×高さ÷2\n",
        "\n",
        "x = 10\n",
        "y = 20\n",
        "z = 5\n",
        "\n",
        "a = ((x + y) * z / 2)\n",
        "\n",
        "print(str(a) +\"㎠\")"
      ]
    }
  ]
}